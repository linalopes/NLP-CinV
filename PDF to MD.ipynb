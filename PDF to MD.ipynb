{
 "cells": [
  {
   "cell_type": "markdown",
   "metadata": {},
   "source": [
    "## Step 1: List all PDF files in the current directory\n",
    "\n",
    "We start by listing all PDF files in the current working directory (the folder named `NLP`). This helps us confirm which files are available for conversion using `docling`."
   ]
  },
  {
   "cell_type": "code",
   "execution_count": 1,
   "metadata": {},
   "outputs": [
    {
     "data": {
      "text/plain": [
       "[PosixPath('02_Neural Networks for NLP.pdf'),\n",
       " PosixPath('03_Large Language Models.pdf')]"
      ]
     },
     "execution_count": 1,
     "metadata": {},
     "output_type": "execute_result"
    }
   ],
   "source": [
    "from pathlib import Path\n",
    "\n",
    "# Define the working directory\n",
    "base_path = Path('.')  # current folder (assumed to be 'NLP')\n",
    "\n",
    "# List all PDF files\n",
    "pdf_files = list(base_path.glob('*.pdf'))\n",
    "\n",
    "# Display the found PDF files\n",
    "pdf_files"
   ]
  },
  {
   "cell_type": "markdown",
   "metadata": {},
   "source": [
    "## Step 2: Convert each PDF to Markdown using Docling\n",
    "\n",
    "For each PDF found in the previous step, we call the `docling` CLI to convert the file to Markdown format.  \n",
    "The resulting `.md` files are saved in a folder named `markdown/` in the current directory.\n"
   ]
  },
  {
   "cell_type": "code",
   "execution_count": 2,
   "metadata": {},
   "outputs": [
    {
     "name": "stdout",
     "output_type": "stream",
     "text": [
      "Converting: 02_Neural Networks for NLP.pdf → 02_Neural Networks for NLP.md\n",
      "Converting: 03_Large Language Models.pdf → 03_Large Language Models.md\n"
     ]
    }
   ],
   "source": [
    "import subprocess\n",
    "\n",
    "# Create 'markdown' folder if it doesn't exist\n",
    "output_dir = base_path / 'markdown'\n",
    "output_dir.mkdir(exist_ok=True)\n",
    "\n",
    "# Loop through PDFs and convert each one using docling\n",
    "for pdf_path in pdf_files:\n",
    "    output_path = output_dir / (pdf_path.stem + '.md')\n",
    "    print(f\"Converting: {pdf_path.name} → {output_path.name}\")\n",
    "\n",
    "    subprocess.run([\n",
    "        \"docling\",\n",
    "        str(pdf_path),\n",
    "        \"--output\",\n",
    "        str(output_path)\n",
    "    ])\n"
   ]
  }
 ],
 "metadata": {
  "kernelspec": {
   "display_name": "base",
   "language": "python",
   "name": "python3"
  },
  "language_info": {
   "codemirror_mode": {
    "name": "ipython",
    "version": 3
   },
   "file_extension": ".py",
   "mimetype": "text/x-python",
   "name": "python",
   "nbconvert_exporter": "python",
   "pygments_lexer": "ipython3",
   "version": "3.12.7"
  }
 },
 "nbformat": 4,
 "nbformat_minor": 2
}
