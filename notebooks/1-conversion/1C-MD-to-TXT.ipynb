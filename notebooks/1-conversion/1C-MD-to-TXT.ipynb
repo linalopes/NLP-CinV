{
 "cells": [
  {
   "cell_type": "markdown",
   "metadata": {},
   "source": [
    "# Markdown to Clean Text Conversion\n",
    "\n",
    "This notebook converts markdown files to clean text files by removing markdown formatting, images, and links while preserving the main content. It's part of the data preprocessing pipeline for text analysis."
   ]
  },
  {
   "cell_type": "code",
   "execution_count": 4,
   "metadata": {},
   "outputs": [],
   "source": [
    "from pathlib import Path\n",
    "import re"
   ]
  },
  {
   "cell_type": "markdown",
   "metadata": {},
   "source": [
    "## Define Input/Output Directories\n",
    "\n",
    "We set up the input directory containing markdown files and create an output directory for the cleaned text files."
   ]
  },
  {
   "cell_type": "code",
   "execution_count": 5,
   "metadata": {},
   "outputs": [],
   "source": [
    "markdown_dir = Path(\"../../data/markdown\")\n",
    "txt_output_dir = Path(\"../../data/txt_clean\")\n",
    "txt_output_dir.mkdir(parents=True, exist_ok=True)"
   ]
  },
  {
   "cell_type": "markdown",
   "metadata": {},
   "source": [
    "## Conversion Process\n",
    "\n",
    "The following code:\n",
    "1. Defines a `clean_markdown()` function that removes:\n",
    "   - Base64 encoded images\n",
    "   - External images and embedded links\n",
    "   - Markdown links (keeping only the text)\n",
    "   - Markdown headings\n",
    "   - Emphasis markers (*, **, _)\n",
    "   - Excess line breaks\n",
    "2. Processes each markdown file in the input directory\n",
    "3. Saves the cleaned text to corresponding .txt files in the output directory"
   ]
  },
  {
   "cell_type": "code",
   "execution_count": 6,
   "metadata": {},
   "outputs": [
    {
     "name": "stdout",
     "output_type": "stream",
     "text": [
      "Cleaned and saved: Shimizu and Srinivasan - 2022 - Improving classification and reconstruction of imagined images from EEG signals.txt\n",
      "Cleaned and saved: Moses et al. - 2021 - Neuroprosthesis for Decoding Speech in a Paralyzed Person with Anarthria.txt\n",
      "Cleaned and saved: Shukla et al. - 2025 - A Survey on Bridging EEG Signals and Generative AI From Image and Text to Beyond.txt\n",
      "Cleaned and saved: Goldstein et al. - 2024 - Alignment of brain embeddings and artificial contextual embeddings in natural language points to com.txt\n",
      "Cleaned and saved: Anumanchipalli et al. - 2019 - Speech synthesis from neural decoding of spoken sentences.txt\n",
      "Cleaned and saved: Guenther et al. - 2024 - Image classification and reconstruction from low-density EEG.txt\n",
      "Cleaned and saved: Tang et al. - 2023 - Semantic reconstruction of continuous language from non-invasive brain recordings.txt\n",
      "Cleaned and saved: Pereira et al. - 2018 - Toward a universal decoder of linguistic meaning from brain activation.txt\n",
      "Cleaned and saved: Chen et al. - 2024 - A neural speech decoding framework leveraging deep learning and speech synthesis.txt\n",
      "Cleaned and saved: Bellier et al. - 2023 - Music can be reconstructed from human auditory cortex activity using nonlinear decoding models.txt\n",
      "Cleaned and saved: Schwartz et al. - 2019 - Inducing brain-relevant bias in natural language processing models.txt\n",
      "Cleaned and saved: Xu et al. - 2021 - Brain decoding in multiple languages Can cross-language brain decoding work.txt\n",
      "Cleaned and saved: Mitchell et al. - 2008 - Predicting Human Brain Activity Associated with the Meanings of Nouns.txt\n",
      "Cleaned and saved: Petsche et al. - 1992 - Thinking with images or thinking with language a pilot EEG probability mapping study.txt\n",
      "Cleaned and saved: Murad and Rahimi - 2025 - Unveiling Thoughts A Review of Advancements in EEG Brain Signal Decoding into Text.txt\n",
      "Cleaned and saved: Shourie et al. - 2014 - Analysis of EEG Signals Related to Artists and Nonartists during Visual Perception, Mental Imagery,.txt\n",
      "Cleaned and saved: Hollenstein et al. - 2021 - Decoding EEG Brain Activity for Multi-Modal Natural Language Processing.txt\n",
      "Cleaned and saved: Bai et al. - 2023 - DreamDiffusion Generating High-Quality Images from Brain EEG Signals.txt\n",
      "Cleaned and saved: Alonso-Vázquez et al. - 2023 - EEG-Based Classification of Spoken Words Using Machine Learning Approaches.txt\n",
      "Cleaned and saved: Caucheteux and King - 2022 - Brains and algorithms partially converge in natural language processing.txt\n",
      "Cleaned and saved: Pasley et al. - 2012 - Reconstructing Speech from Human Auditory Cortex.txt\n",
      "Cleaned and saved: Fei et al. - 2025 - Perceptogram Reconstructing Visual Percepts from EEG.txt\n"
     ]
    }
   ],
   "source": [
    "def clean_markdown(md_text):\n",
    "    # Remove base64 images\n",
    "    md_text = re.sub(r'!\\[.*?\\]\\(data:image\\/.*?\\)', '', md_text)\n",
    "    # Remove external images and embedded links ![alt](url)\n",
    "    md_text = re.sub(r'!\\[.*?\\]\\(http.*?\\)', '', md_text)\n",
    "    # Remove links [text](url)\n",
    "    md_text = re.sub(r'\\[([^\\]]+)\\]\\([^\\)]+\\)', r'\\1', md_text)\n",
    "    # Remove Markdown headings (##, ### etc)\n",
    "    md_text = re.sub(r'^#+\\s+', '', md_text, flags=re.MULTILINE)\n",
    "    # Remove emphasis (*, **, _) and excess line breaks\n",
    "    md_text = re.sub(r'[*_`]', '', md_text)\n",
    "    md_text = re.sub(r'\\n{2,}', '\\n\\n', md_text)\n",
    "    return md_text.strip()\n",
    "\n",
    "# Loop through .md files\n",
    "for md_path in markdown_dir.glob(\"*.md\"):\n",
    "    with md_path.open(\"r\", encoding=\"utf-8\") as f:\n",
    "        md_text = f.read()\n",
    "\n",
    "    cleaned_text = clean_markdown(md_text)\n",
    "\n",
    "    txt_filename = md_path.stem + \".txt\"\n",
    "    txt_path = txt_output_dir / txt_filename\n",
    "\n",
    "    with txt_path.open(\"w\", encoding=\"utf-8\") as f:\n",
    "        f.write(cleaned_text)\n",
    "\n",
    "    print(f\"Cleaned and saved: {txt_filename}\")"
   ]
  }
 ],
 "metadata": {
  "kernelspec": {
   "display_name": "base",
   "language": "python",
   "name": "python3"
  },
  "language_info": {
   "codemirror_mode": {
    "name": "ipython",
    "version": 3
   },
   "file_extension": ".py",
   "mimetype": "text/x-python",
   "name": "python",
   "nbconvert_exporter": "python",
   "pygments_lexer": "ipython3",
   "version": "3.12.7"
  }
 },
 "nbformat": 4,
 "nbformat_minor": 2
}
